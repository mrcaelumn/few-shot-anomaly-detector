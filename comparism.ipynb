{
 "cells": [
  {
   "cell_type": "code",
   "execution_count": null,
   "id": "4d7cac74-deae-4129-9e32-e00f3047b649",
   "metadata": {},
   "outputs": [],
   "source": [
    "import pandas as pd\n",
    "import numpy as np\n",
    "from glob import glob\n",
    "import random\n",
    "import cv2\n",
    "import os"
   ]
  },
  {
   "cell_type": "code",
   "execution_count": null,
   "id": "f4110251-11ee-4ee7-92f7-110c3765d75e",
   "metadata": {},
   "outputs": [],
   "source": [
    "def processing_image(img_path, label):\n",
    "        # print(img_path)\n",
    "        image = cv2.imread(img_path)\n",
    "        # print(image)\n",
    "        mean = np.mean(image)\n",
    "        std = np.std(image)\n",
    "        # print(mean, image.mean())\n",
    "        # print(std, image.std())\n",
    "        _, tail = os.path.split(img_path)\n",
    "        data_row = {\n",
    "            \"image_path\": tail,\n",
    "            \"mean\": image.mean(),\n",
    "            \"std\": image.std(),\n",
    "            \"label\": label,\n",
    "        }\n",
    "        # print(data_row)\n",
    "        return data_row"
   ]
  },
  {
   "cell_type": "code",
   "execution_count": null,
   "id": "7aedc06f-0776-4fea-a9ae-72515dfaa5b1",
   "metadata": {},
   "outputs": [],
   "source": [
    "first_dir = f\"data/mura_april/test_data_v1/normal/*.png\"\n",
    "second_dir = f\"data/mura_april_linear/test_data_v1/normal/*.png\"\n",
    "\n",
    "MAX_NUMBER_IMAGES = 10\n",
    "\n",
    "first_images = glob(first_dir)\n",
    "# random.shuffle(first_images)\n",
    "# first_images = first_images[:MAX_NUMBER_IMAGES]\n",
    "# print(first_images)\n",
    "second_images = glob(second_dir)\n",
    "# random.shuffle(second_images)\n",
    "# second_images = second_images[:MAX_NUMBER_IMAGES]"
   ]
  },
  {
   "cell_type": "code",
   "execution_count": null,
   "id": "75e0881e-86b0-4789-9c3e-430f24d66a5c",
   "metadata": {},
   "outputs": [],
   "source": [
    "first_df = pd.DataFrame(columns=['image_path','mean','std', 'label'])\n",
    "first_rows = []\n",
    "for a in first_images:\n",
    "    # print\n",
    "    first_rows.append(processing_image(a, \"old\"))\n",
    "first_df = first_df.append(first_rows, ignore_index = True)\n",
    "# first_df.head()\n",
    "# first_df.sort_values(['mean', 'std'], ascending = [True, True]).head(7)\n",
    "first_df.sort_values(['image_path'], ascending = [True]).head(7)"
   ]
  },
  {
   "cell_type": "code",
   "execution_count": null,
   "id": "e8d63b2d-6aac-4d78-81ec-271b1fc6a7c6",
   "metadata": {},
   "outputs": [],
   "source": [
    "second_df = pd.DataFrame(columns=['image_path','mean','std', 'label'])\n",
    "second_rows = []\n",
    "for a in second_images:\n",
    "    second_rows.append(processing_image(a, \"linear\"))\n",
    "second_df = second_df.append(second_rows, ignore_index = True)\n",
    "# second_df.head()\n",
    "# second_df.sort_values(['mean', 'std'], ascending = [True, True]).head(7)\n",
    "second_df.sort_values(['image_path'], ascending = [True]).head(7)"
   ]
  },
  {
   "cell_type": "code",
   "execution_count": null,
   "id": "5b4e4704-b867-41cc-bcf4-50c9ba542866",
   "metadata": {},
   "outputs": [],
   "source": [
    "first_arr = first_df[[\"image_path\", 'label']]\n",
    "\n",
    "\n",
    "second_arr = second_df[[\"image_path\", 'label']]\n",
    "\n",
    "\n",
    "comp_df = pd.concat([first_arr, second_arr])\n",
    "\n",
    "\n",
    "# Using groupby() and count()\n",
    "df2 = comp_df.groupby(['image_path'])['image_path'].count()\n",
    "\n",
    "df2"
   ]
  },
  {
   "cell_type": "code",
   "execution_count": null,
   "id": "4dcbdf71-aed4-4a91-b7f5-6f6a6573ec6d",
   "metadata": {},
   "outputs": [],
   "source": [
    "# # Draw a scatter plot\n",
    "# first_df.plot.scatter(x = 'mean', y = 'std', s = 3, c=\"red\");"
   ]
  },
  {
   "cell_type": "code",
   "execution_count": null,
   "id": "3223305e-fff4-4b1b-9889-690203b9d81a",
   "metadata": {},
   "outputs": [],
   "source": [
    "# # Draw a scatter plot\n",
    "# second_df.plot.scatter(x = 'mean', y = 'std', s = 3, c=\"blue\");"
   ]
  },
  {
   "cell_type": "code",
   "execution_count": null,
   "id": "4b83173d-726a-494a-a914-9c3f000c501b",
   "metadata": {},
   "outputs": [],
   "source": [
    "df_all_rows = pd.concat([first_df, second_df])\n",
    "df_all_rows['label'] = (df_all_rows['label'] == 'old').astype(int)\n",
    "df_all_rows.count()"
   ]
  },
  {
   "cell_type": "code",
   "execution_count": null,
   "id": "c8a776ce-31f3-4c36-b226-2cca0392103e",
   "metadata": {},
   "outputs": [],
   "source": [
    "# Draw a scatter plot\n",
    "df_all_rows.plot.scatter(x = 'mean', y = 'std', s=7, c='label', colormap='coolwarm');"
   ]
  }
 ],
 "metadata": {
  "kernelspec": {
   "display_name": "Python 3 (ipykernel)",
   "language": "python",
   "name": "python3"
  },
  "language_info": {
   "codemirror_mode": {
    "name": "ipython",
    "version": 3
   },
   "file_extension": ".py",
   "mimetype": "text/x-python",
   "name": "python",
   "nbconvert_exporter": "python",
   "pygments_lexer": "ipython3",
   "version": "3.9.9"
  }
 },
 "nbformat": 4,
 "nbformat_minor": 5
}
