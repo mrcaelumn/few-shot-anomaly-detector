{
 "cells": [
  {
   "cell_type": "code",
   "execution_count": null,
   "id": "96253d2f",
   "metadata": {},
   "outputs": [],
   "source": [
    "import numpy as np\n",
    "from tqdm import tqdm\n",
    "import os\n",
    "import cv2\n",
    "\n",
    "import natsort\n",
    "from glob import glob\n",
    "import time\n",
    "import shutil"
   ]
  },
  {
   "cell_type": "code",
   "execution_count": null,
   "id": "7353f59b",
   "metadata": {},
   "outputs": [],
   "source": [
    "def resize_image(inputFile, outputFile):\n",
    "    # print(inputFile)\n",
    "    img = cv2.imread(inputFile)\n",
    "    \n",
    "    img = cv2.resize(img, (481, 271), interpolation = cv2.INTER_LINEAR)\n",
    "    \n",
    "    cv2.imwrite(outputFile, img)\n",
    "    \n",
    "def smoothing_func(inputFile, outputFile):\n",
    "    # print(inputFile)\n",
    "    img = cv2.imread(inputFile)\n",
    "    \n",
    "    img = cv2.GaussianBlur(img,(5,5),0)\n",
    "    \n",
    "    cv2.imwrite(outputFile, img)"
   ]
  },
  {
   "cell_type": "code",
   "execution_count": null,
   "id": "d5edaacc-6f04-4bbd-b8e9-6467f3b33f44",
   "metadata": {},
   "outputs": [],
   "source": [
    "# path = 'data/mura_april/train_data/normal'\n",
    "# files = os.listdir(path)\n",
    "\n",
    "# for index, file in enumerate(files):\n",
    "#     os.rename(os.path.join(path, file), os.path.join(path, ''.join([str(index), '.png'])))\n",
    "# print(\"Done.\")\n",
    "\n",
    "def remove_hidden_file(list_arr):\n",
    "    if '.DS_Store' in list_arr:\n",
    "        list_arr.remove('.DS_Store')\n",
    "\n",
    "    if '.ipynb_checkpoints' in list_arr:\n",
    "        list_arr.remove('.ipynb_checkpoints')\n",
    "    return list_arr"
   ]
  },
  {
   "cell_type": "code",
   "execution_count": null,
   "id": "35ec5eb6-2d82-4de8-9b4b-0e18a2a18ede",
   "metadata": {},
   "outputs": [],
   "source": [
    "root_target_dir = \"target_data/mura_april_new_smoothed\"\n",
    "root_folder = \"data/mura_april_new\"\n",
    "list_root_dir = os.listdir(root_folder)\n",
    "# print(list_root_dir)\n",
    "list_root_dir = remove_hidden_file(list_root_dir)\n",
    "# print(list_root_dir)\n",
    "\n",
    "for mode in list_root_dir:\n",
    "    for class_name in [\"normal\", \"defect\"]:\n",
    "    # for class_name in [\"mura\", \"defect\"]:\n",
    "        Input_dir = f'{root_folder}/{mode}/{class_name}/'\n",
    "        Out_dir = f'{root_target_dir}/{mode}/{class_name}/'\n",
    "        # create dir if it isnt exist\n",
    "        if not os.path.exists(Out_dir):\n",
    "            os.makedirs(Out_dir)\n",
    "\n",
    "        for i in tqdm(os.listdir(Input_dir), desc=f'Converting dataset {mode} with class {class_name} images {root_target_dir}'):\n",
    "            if i != \".DS_Store\" and i != \".ipynb_checkpoints\":\n",
    "\n",
    "                inputFile = Input_dir+i\n",
    "                outputFile = Out_dir+i\n",
    "                # print(inputFile)\n",
    "                # resize_image(inputFile, outputFile)\n",
    "                smoothing_func(inputFile, outputFile)\n",
    "                "
   ]
  },
  {
   "cell_type": "code",
   "execution_count": null,
   "id": "487b0fd6-740b-47f7-b60f-91ec51c4df88",
   "metadata": {},
   "outputs": [],
   "source": [
    "print(\"test\")"
   ]
  },
  {
   "cell_type": "code",
   "execution_count": null,
   "id": "882cee9b-57ce-4fff-a855-ab75b84d2447",
   "metadata": {},
   "outputs": [],
   "source": []
  }
 ],
 "metadata": {
  "kernelspec": {
   "display_name": "Python 3 (ipykernel)",
   "language": "python",
   "name": "python3"
  },
  "language_info": {
   "codemirror_mode": {
    "name": "ipython",
    "version": 3
   },
   "file_extension": ".py",
   "mimetype": "text/x-python",
   "name": "python",
   "nbconvert_exporter": "python",
   "pygments_lexer": "ipython3",
   "version": "3.9.9"
  }
 },
 "nbformat": 4,
 "nbformat_minor": 5
}
