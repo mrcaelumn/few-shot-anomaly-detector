{
 "cells": [
  {
   "cell_type": "code",
   "execution_count": null,
   "id": "96253d2f",
   "metadata": {},
   "outputs": [],
   "source": [
    "import tensorflow as tf\n",
    "import tensorflow_addons as tfa\n",
    "import tensorflow_io as tfio\n",
    "import matplotlib.pyplot as plt\n",
    "import numpy as np\n",
    "from PIL import Image\n",
    "\n",
    "from skimage import exposure, io, img_as_ubyte\n",
    "from skimage.morphology import disk\n",
    "from skimage.filters import rank\n",
    "from skimage.restoration import denoise_bilateral\n",
    "from sklearn.decomposition import PCA\n",
    "import skimage.exposure\n",
    "\n",
    "import tf_clahe\n",
    "import os\n",
    "import cv2\n",
    "print(tf.__version__)"
   ]
  },
  {
   "cell_type": "code",
   "execution_count": null,
   "id": "7353f59b",
   "metadata": {},
   "outputs": [],
   "source": [
    "def resize_image(inputFile, outputFile):\n",
    "    # print(inputFile)\n",
    "    img = cv2.imread(inputFile)\n",
    "    \n",
    "    img = cv2.resize(img, (481, 271))\n",
    "    \n",
    "    cv2.imwrite(outputFile, img)\n",
    "    \n",
    "\n",
    "    \n",
    "def convert_sobel(inputFile, outputFile, x=1, y=1, ks=3):\n",
    "    img = cv2.imread(inputFile)\n",
    "    # img = cv2.cvtColor(img, cv2.COLOR_BGR2RGB)\n",
    "    img = cv2.Sobel(img, cv2.CV_32F,x, y,ksize=ks)\n",
    "    # img = cv2.cvtColor(img, cv2.COLOR_LAB2BGR)\n",
    "    cv2.imwrite(outputFile, img)"
   ]
  },
  {
   "cell_type": "code",
   "execution_count": null,
   "id": "d5edaacc-6f04-4bbd-b8e9-6467f3b33f44",
   "metadata": {},
   "outputs": [],
   "source": [
    "# path = 'data/mura_april/train_data/normal'\n",
    "# files = os.listdir(path)\n",
    "\n",
    "\n",
    "# for index, file in enumerate(files):\n",
    "#     os.rename(os.path.join(path, file), os.path.join(path, ''.join([str(index), '.png'])))\n",
    "# print(\"Done.\")"
   ]
  },
  {
   "cell_type": "code",
   "execution_count": null,
   "id": "1cc92eee",
   "metadata": {},
   "outputs": [],
   "source": [
    "## convert colour of images\n",
    "for target_folder in [\n",
    "    \"mura_sobelx\",\"mura_sobely\", \"mura_sobelxy\", \n",
    "    \"mura_sobelx_v2\",\"mura_sobely_v2\", \"mura_sobelxy_v2\"]:\n",
    "    \n",
    "    x=1\n",
    "    y=1 \n",
    "    ks=3\n",
    "    \n",
    "    if target_folder == \"mura_sobelx\":\n",
    "        y=0\n",
    "    elif target_folder == \"mura_sobely\":\n",
    "        x=0\n",
    "        \n",
    "        \n",
    "    elif target_folder == \"mura_sobelx_v2\":\n",
    "        y=0\n",
    "        ks=5\n",
    "    elif target_folder == \"mura_sobely_v2\":\n",
    "        x=0\n",
    "        ks=5\n",
    "    elif target_folder == \"mura_sobelxy_v2\":\n",
    "        ks=5\n",
    "        \n",
    "    print(f\"{target_folder=}, {x=}, {y=}, {ks=}\")\n",
    "    \n",
    "    for mode in [\"test_data\",\"train_data\", \"eval_data\"]:\n",
    "        for class_name in [\"normal\", \"defect\"]:\n",
    "            Input_dir = f'data/mura_april/{mode}/{class_name}/'\n",
    "            Out_dir = f'data/{target_folder}/{mode}/{class_name}/'\n",
    "            a = os.listdir(Input_dir)\n",
    "            index = 0\n",
    "            for i in a:\n",
    "                index += 1\n",
    "                if i != \".DS_Store\" and i != \".ipynb_checkpoints\":\n",
    "\n",
    "                    inputFile = Input_dir+i\n",
    "                    outputFile = Out_dir+i\n",
    "\n",
    "                    # print(inputFile)\n",
    "                    # resize_image(inputFile, OutputFile)\n",
    "\n",
    "                    convert_sobel(inputFile, outputFile, x=x, y=y, ks=ks)\n",
    "\n",
    "                if index % 1000 == 0:\n",
    "                    print(\"file: \",index)\n",
    "            print(\"done.\", class_name, mode)\n",
    "        #     break"
   ]
  },
  {
   "cell_type": "code",
   "execution_count": null,
   "id": "487b0fd6-740b-47f7-b60f-91ec51c4df88",
   "metadata": {},
   "outputs": [],
   "source": [
    "print(\"test\")"
   ]
  },
  {
   "cell_type": "code",
   "execution_count": null,
   "id": "ee48d57a-6657-4ca6-b23a-bbe14aa66d45",
   "metadata": {},
   "outputs": [],
   "source": []
  }
 ],
 "metadata": {
  "kernelspec": {
   "display_name": "Python 3 (ipykernel)",
   "language": "python",
   "name": "python3"
  },
  "language_info": {
   "codemirror_mode": {
    "name": "ipython",
    "version": 3
   },
   "file_extension": ".py",
   "mimetype": "text/x-python",
   "name": "python",
   "nbconvert_exporter": "python",
   "pygments_lexer": "ipython3",
   "version": "3.9.9"
  }
 },
 "nbformat": 4,
 "nbformat_minor": 5
}
