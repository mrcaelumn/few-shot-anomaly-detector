{
 "cells": [
  {
   "cell_type": "code",
   "execution_count": null,
   "id": "ed609f14-b253-488b-b25d-56fbb71d2bdc",
   "metadata": {},
   "outputs": [],
   "source": [
    "import tensorflow as tf\n",
    "import numpy as np\n",
    "import pandas as pd\n",
    "import cv2\n",
    "import random\n",
    "import seaborn as sns\n",
    "import matplotlib.pyplot as plt\n",
    "IMG_H = 128\n",
    "IMG_W = 128\n",
    "IMG_C = 3  ## Change this to 1 for grayscale."
   ]
  },
  {
   "cell_type": "code",
   "execution_count": null,
   "id": "31eaa271-2256-4788-bd03-920b5671fc9b",
   "metadata": {},
   "outputs": [],
   "source": [
    "def enhance_image(image, beta=0.1):\n",
    "    # image = tf.cast(image, tf.float64)\n",
    "    image = ((1 + beta) * image) + (-beta * np.mean(image))\n",
    "    return image"
   ]
  },
  {
   "cell_type": "code",
   "execution_count": null,
   "id": "7f426fd2-4db0-4402-83d7-f2df6a2380d8",
   "metadata": {},
   "outputs": [],
   "source": [
    "# image = 'data/mura_sobely/train_data/normal/7A1DC969TAZZ_20211220104322_0_L050P_resize.png'\n",
    "\n",
    "# # img = tf.io.read_file(image)\n",
    "# # img = tf.io.decode_png(img, channels=IMG_C)\n",
    "# img = cv2.imread(image)\n",
    "# img = cv2.cvtColor(img, cv2.COLOR_BGR2RGB)\n",
    "# print(img)\n",
    "# # apply sobel\n",
    "# img = cv2.Sobel(img,cv2.CV_32F, 1, 1,ksize=3)\n",
    "# print(img)\n",
    "# img = enhance_image(img)\n",
    "\n",
    "\n",
    "# img = tf.image.convert_image_dtype(img, tf.float32)\n",
    "\n",
    "# print(img)\n",
    "# img = tf.image.resize(img, (IMG_H, IMG_W))\n",
    "\n",
    "\n",
    "# img = (img - 127.5) / 127.5\n",
    "# print(img)"
   ]
  },
  {
   "cell_type": "code",
   "execution_count": null,
   "id": "63d4748b-8517-43d6-8fdc-799604ac86f4",
   "metadata": {},
   "outputs": [],
   "source": [
    "def plot_anomaly_score(score_ano, labels, name, model_name):\n",
    "    \n",
    "    df = pd.DataFrame(\n",
    "    {'predicts': score_ano,\n",
    "     'label': labels\n",
    "    })\n",
    "    \n",
    "    df_normal = df[df.label == 0]\n",
    "    sns.distplot(df_normal['predicts'],  kde=False, label='normal')\n",
    "\n",
    "    df_defect = df[df.label == 1]\n",
    "    sns.distplot(df_defect['predicts'],  kde=False, label='defect')\n",
    "    \n",
    "#     plt.plot(epochs, disc_loss, 'b', label='Discriminator loss')\n",
    "    plt.title(name)\n",
    "    plt.xlabel('Anomaly Scores')\n",
    "    plt.ylabel('Number of samples')\n",
    "    plt.legend(prop={'size': 12})\n",
    "    plt.savefig(model_name+ '_'+name+'_anomay_scores_dist.png')\n",
    "    plt.show()\n",
    "    plt.clf()"
   ]
  },
  {
   "cell_type": "code",
   "execution_count": null,
   "id": "90d4e85e-8015-41a9-a583-a4b2d596cdaa",
   "metadata": {},
   "outputs": [],
   "source": [
    "sample_size = 100\n",
    "predicts = range(sample_size)\n",
    "label = [random.randint(0,1) for _ in range(sample_size)]\n",
    "\n",
    "plot_anomaly_score(predicts, label, \"test\", \"model_test\")"
   ]
  },
  {
   "cell_type": "code",
   "execution_count": null,
   "id": "8f3274e5-a235-4be9-99b4-15713583d3ee",
   "metadata": {},
   "outputs": [],
   "source": [
    "# df = pd.DataFrame(\n",
    "#     {'predicts': predicts,\n",
    "#      'label': label\n",
    "#     })"
   ]
  },
  {
   "cell_type": "code",
   "execution_count": null,
   "id": "3126192f-3a77-46df-a289-59888a38a37d",
   "metadata": {},
   "outputs": [],
   "source": [
    "# df.head()"
   ]
  },
  {
   "cell_type": "code",
   "execution_count": null,
   "id": "94a36121-9ab6-4706-86e9-bde04cd11c16",
   "metadata": {},
   "outputs": [],
   "source": [
    "# df_normal = df[df.label == 0]\n",
    "# sns.distplot(df_normal['predicts'],  kde=False, label='normal')\n",
    "\n",
    "# df_defect = df[df.label == 1]\n",
    "# sns.distplot(df_defect['predicts'],  kde=False, label='defect')\n",
    "# # Plot formatting\n",
    "# plt.legend(prop={'size': 12})\n",
    "# plt.title('Histogram of the scores for both normal and defect test samples.')\n",
    "# plt.xlabel('Anomaly Scores')\n",
    "# plt.ylabel('Number of samples')"
   ]
  }
 ],
 "metadata": {
  "kernelspec": {
   "display_name": "Python 3 (ipykernel)",
   "language": "python",
   "name": "python3"
  },
  "language_info": {
   "codemirror_mode": {
    "name": "ipython",
    "version": 3
   },
   "file_extension": ".py",
   "mimetype": "text/x-python",
   "name": "python",
   "nbconvert_exporter": "python",
   "pygments_lexer": "ipython3",
   "version": "3.9.9"
  }
 },
 "nbformat": 4,
 "nbformat_minor": 5
}
