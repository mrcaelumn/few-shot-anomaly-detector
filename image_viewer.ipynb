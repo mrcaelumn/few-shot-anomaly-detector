{
 "cells": [
  {
   "cell_type": "code",
   "execution_count": null,
   "id": "952acfd3-5e9f-4ee5-b05a-fafacb65d7be",
   "metadata": {},
   "outputs": [],
   "source": [
    "from models.data_augmentation import selecting_images_preprocessing, sliding_crop \\\n",
    "    , sliding_crop_and_select_one, custom_v3, enhance_image\n",
    "\n",
    "from models.seresnext50 import build_seresnext50_unet\n",
    "\n",
    "import tensorflow as tf\n",
    "from glob import glob\n",
    "from matplotlib import pyplot as plt\n",
    "import numpy as np"
   ]
  },
  {
   "cell_type": "code",
   "execution_count": null,
   "id": "01245099-659e-4d3e-a437-9fcbd1840723",
   "metadata": {},
   "outputs": [],
   "source": [
    "IMG_H = 128\n",
    "IMG_W = 128\n",
    "IMG_C = 3  ## Change this to 1 for grayscale.\n",
    "input_shape = (IMG_H, IMG_W, IMG_C)"
   ]
  },
  {
   "cell_type": "code",
   "execution_count": null,
   "id": "27bc1dd2-6edd-4c87-b04d-4b01bd04dcc4",
   "metadata": {},
   "outputs": [],
   "source": [
    "def prep_stage(x, train=True):\n",
    "    beta_contrast = 0.1\n",
    "    # enchance the brightness\n",
    "    x = enhance_image(x, beta_contrast)\n",
    "    # if train:\n",
    "        # x = enhance_image(x, beta_contrast)\n",
    "        # x = tfa.image.equalize(x)\n",
    "        # x = custom_v3(x)\n",
    "    # else: \n",
    "        # x = enhance_image(x, beta_contrast)\n",
    "        # x = tfa.image.equalize(x)\n",
    "        # x = custom_v3(x)      \n",
    "    return x\n",
    "\n",
    "def post_stage(x):\n",
    "    \n",
    "    x = tf.image.resize(x, (IMG_H, IMG_W))\n",
    "    # x = tf.image.resize_with_crop_or_pad(x, IMG_H, IMG_W)\n",
    "    # normalize to the range -1,1\n",
    "    # x = tf.cast(x, tf.float32)\n",
    "    # x = (x - 127.5) / 127.5\n",
    "    # normalize to the range 0-1\n",
    "    # img /= 255.0\n",
    "    return x\n",
    "\n",
    "def extraction(image, label):\n",
    "    # This function will shrink the Omniglot images to the desired size,\n",
    "    # scale pixel values and convert the RGB image to grayscale\n",
    "    img = tf.io.read_file(image)\n",
    "    img = tf.io.decode_png(img, channels=IMG_C)\n",
    "    # print(image, label)\n",
    "    # img = cv2.imread(image)\n",
    "    # img = cv2.cvtColor(img, cv2.COLOR_BGR2RGB)\n",
    "    \n",
    "    img = prep_stage(img, True)\n",
    "    \n",
    "    # img = sliding_crop_and_select_one(img)\n",
    "    # img = post_stage(img)\n",
    "\n",
    "    return img, label"
   ]
  },
  {
   "cell_type": "code",
   "execution_count": null,
   "id": "17bf44e7-4fbb-431e-aad9-82b96a717eae",
   "metadata": {},
   "outputs": [],
   "source": [
    "test_data_path = \"data/mura_april/test_data_v2\"\n",
    "g_model_inner = build_seresnext50_unet(input_shape, IMG_H, IMG_C)\n",
    "g_filepath = \"saved_model/0507/128_rgb_mura_sobel_xy_64_v3_0_seresnext50_20_shots_mura_detection_2000_g_model.h5\""
   ]
  },
  {
   "cell_type": "code",
   "execution_count": null,
   "id": "d47a110d-b95f-4217-b770-4db54ec18392",
   "metadata": {},
   "outputs": [],
   "source": [
    "g_model_inner.load_weights(g_filepath)\n",
    "\n",
    "normal_image = glob(test_data_path+\"/normal/*.png\")[0]\n",
    "defect_image = glob(test_data_path+\"/defect/*.png\")[0]\n",
    "paths = {\n",
    "    \"normal\": normal_image,\n",
    "    \"defect\": defect_image,\n",
    "}"
   ]
  },
  {
   "cell_type": "code",
   "execution_count": null,
   "id": "4acdba0a-7928-44ed-8b60-349f9107c789",
   "metadata": {},
   "outputs": [],
   "source": [
    "for i, v in paths.items():\n",
    "    print(i,v)\n",
    "\n",
    "    rows = 1\n",
    "    cols = 3\n",
    "    axes=[]\n",
    "    fig = plt.figure()\n",
    "\n",
    "    img = tf.io.read_file(v)\n",
    "    img = tf.io.decode_png(img, channels=IMG_C)\n",
    "    \n",
    "    # img = np.clip(img.numpy(), 0, 1)\n",
    "    \n",
    "    axes.append( fig.add_subplot(rows, cols, 1) )\n",
    "    axes[-1].set_title('_original_') \n",
    "    plt.imshow(img.numpy().astype(np.uint8))\n",
    "    plt.axis('off')\n",
    "\n",
    "    \n",
    "    img = sliding_crop_and_select_one(img)\n",
    "    img = post_stage(img)\n",
    "    \n",
    "    axes.append( fig.add_subplot(rows, cols, 2) )\n",
    "    axes[-1].set_title('_preprocessing_') \n",
    "    plt.imshow(img.numpy().astype(np.uint8), alpha=1.0)\n",
    "    plt.axis('off')\n",
    "    # print(img)\n",
    "    img = (img - 127.5) / 127.5\n",
    "    # print(img)\n",
    "    image = tf.reshape(img, (-1, IMG_H, IMG_W, IMG_C))\n",
    "    reconstructed_images = g_model_inner.predict(image)\n",
    "    reconstructed_images = tf.reshape(reconstructed_images, (IMG_H, IMG_W, IMG_C))\n",
    "    reconstructed_images = reconstructed_images * 127 + 127\n",
    "     \n",
    "\n",
    "    # reconstructed_images = np.clip(reconstructed_images.numpy(), 0, 1)\n",
    "    \n",
    "    axes.append( fig.add_subplot(rows, cols, 3) )\n",
    "    axes[-1].set_title('_reconstructed_')\n",
    "    plt.imshow(reconstructed_images.numpy().astype(np.uint8))\n",
    "    plt.axis('off')"
   ]
  },
  {
   "cell_type": "code",
   "execution_count": null,
   "id": "ecc0454d-90e5-41c4-9460-32aad08d4756",
   "metadata": {},
   "outputs": [],
   "source": [
    "import cv2"
   ]
  },
  {
   "cell_type": "code",
   "execution_count": null,
   "id": "4332f185-566e-4ea6-804a-db39932fd4da",
   "metadata": {},
   "outputs": [],
   "source": [
    "def convert_sobel(inputFile, outputFile, x=1, y=1, ks=3, depth=cv2.CV_32F):\n",
    "    img = cv2.imread(inputFile)\n",
    "    # img = cv2.cvtColor(img, cv2.COLOR_BGR2RGB)\n",
    "    # img = cv2.Sobel(img, cv2.CV_16U, x, y,ksize=ks)\n",
    "    img = cv2.Sobel(img, depth, x, y,ksize=ks)\n",
    "    # img = cv2.cvtColor(img, cv2.COLOR_LAB2BGR)\n",
    "    return img"
   ]
  },
  {
   "cell_type": "code",
   "execution_count": null,
   "id": "7b212d9a-ef4f-488d-808f-655f0e8dd155",
   "metadata": {},
   "outputs": [],
   "source": [
    "img = cv2.imread(normal_image)\n",
    "# img = cv2.cvtColor(img, cv2.COLOR_BGR2RGB)\n",
    "plt.imshow(img.astype(np.uint8))"
   ]
  },
  {
   "cell_type": "code",
   "execution_count": null,
   "id": "ae1bdd52-2032-429b-b1fb-2e872823db15",
   "metadata": {},
   "outputs": [],
   "source": [
    "img = cv2.Sobel(img, cv2.CV_64F, 1, 1,ksize=3)\n",
    "plt.imshow(img.astype(np.uint8))\n",
    "# img = cv2.cvtColor(img, cv2.COLOR_RGB2BGR)\n",
    "cv2.imwrite(\"test4.png\", img)"
   ]
  },
  {
   "cell_type": "code",
   "execution_count": null,
   "id": "0046138a-158c-40ca-8f54-045490cc16e7",
   "metadata": {},
   "outputs": [],
   "source": []
  }
 ],
 "metadata": {
  "kernelspec": {
   "display_name": "Python 3 (ipykernel)",
   "language": "python",
   "name": "python3"
  },
  "language_info": {
   "codemirror_mode": {
    "name": "ipython",
    "version": 3
   },
   "file_extension": ".py",
   "mimetype": "text/x-python",
   "name": "python",
   "nbconvert_exporter": "python",
   "pygments_lexer": "ipython3",
   "version": "3.9.9"
  }
 },
 "nbformat": 4,
 "nbformat_minor": 5
}
