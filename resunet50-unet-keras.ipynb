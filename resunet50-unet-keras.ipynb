{
 "cells": [
  {
   "cell_type": "code",
   "execution_count": null,
   "id": "33fd7e00-2a8e-46b7-95b0-9f8887123707",
   "metadata": {},
   "outputs": [],
   "source": [
    "from tensorflow.keras.layers import Conv2D, BatchNormalization, Activation, MaxPool2D, Conv2DTranspose, Concatenate, Input\n",
    "from tensorflow.keras.models import Model\n",
    "from tensorflow.keras.applications import ResNet50\n",
    "IMG_SIZE = 128"
   ]
  },
  {
   "cell_type": "code",
   "execution_count": null,
   "id": "f29a5cbe-d2fc-4ea6-b709-0dea6e03c165",
   "metadata": {},
   "outputs": [],
   "source": [
    "def conv_block(input, num_filters):\n",
    "    x = Conv2D(num_filters, 3, padding=\"same\")(input)\n",
    "    x = BatchNormalization()(x)\n",
    "    x = Activation(\"relu\")(x)\n",
    "\n",
    "    x = Conv2D(num_filters, 3, padding=\"same\")(x)\n",
    "    x = BatchNormalization()(x)\n",
    "    x = Activation(\"relu\")(x)\n",
    "\n",
    "    return x\n",
    "\n",
    "def decoder_block(input, skip_features, num_filters):\n",
    "    x = Conv2DTranspose(num_filters, (2, 2), strides=2, padding=\"same\")(input)\n",
    "    x = Concatenate()([x, skip_features])\n",
    "    x = conv_block(x, num_filters)\n",
    "    return x"
   ]
  },
  {
   "cell_type": "code",
   "execution_count": null,
   "id": "f5930a44-2c34-4ee4-9045-8c7b7ab8fc02",
   "metadata": {},
   "outputs": [],
   "source": [
    "def build_resnet50_unet(input_shape):\n",
    "    inputs = Input(input_shape, name=\"input_1\")\n",
    "    \"\"\" Pre-trained ResNet50 Model \"\"\"\n",
    "    resnet50 = ResNet50(include_top=False, weights=\"imagenet\", input_tensor=inputs)\n",
    "    # resnet50.summary()\n",
    "    \"\"\" Encoder \"\"\"\n",
    "    s1 = resnet50.get_layer(\"input_1\").output           ## (512 x 512)\n",
    "    s2 = resnet50.get_layer(\"conv1_relu\").output        ## (256 x 256)\n",
    "    s3 = resnet50.get_layer(\"conv2_block3_out\").output  ## (128 x 128)\n",
    "    s4 = resnet50.get_layer(\"conv3_block4_out\").output  ## (64 x 64)\n",
    "    s5 = resnet50.get_layer(\"conv4_block6_out\").output  ## (32 x 32)\n",
    "\n",
    "    \"\"\" Bridge \"\"\"\n",
    "    b1 = resnet50.get_layer(\"conv5_block3_out\").output  ## (16 x 16)\n",
    "\n",
    "    \"\"\" Decoder \"\"\"\n",
    "    x = IMG_SIZE\n",
    "    d1 = decoder_block(b1, s5, x)                     ## (32 x 32)\n",
    "    x = x/2\n",
    "    d2 = decoder_block(d1, s4, x)                     ## (64 x 64)\n",
    "    x = x/2\n",
    "    d3 = decoder_block(d2, s3, x)                     ## (128 x 128)\n",
    "    x = x/2\n",
    "    d4 = decoder_block(d3, s2, x)                      ## (256 x 256)\n",
    "    x = x/2\n",
    "    d5 = decoder_block(d4, s1, x)                      ## (512 x 512)\n",
    "\n",
    "\n",
    "    \"\"\" Output \"\"\"\n",
    "    outputs = Conv2D(1, 1, padding=\"same\", activation=\"sigmoid\")(d4)\n",
    "\n",
    "    model = Model(inputs, outputs, name=\"ResNet50_U-Net\")\n",
    "    return model"
   ]
  },
  {
   "cell_type": "code",
   "execution_count": null,
   "id": "f0d0d1d8-50f5-4ddc-83d5-30efddd992f3",
   "metadata": {},
   "outputs": [],
   "source": [
    "if __name__ == \"__main__\":\n",
    "    input_shape = (IMG_SIZE, IMG_SIZE, 3)\n",
    "    model = build_resnet50_unet(input_shape)\n",
    "    model.summary()"
   ]
  },
  {
   "cell_type": "code",
   "execution_count": null,
   "id": "4eaccb37-cf42-4d23-b788-cf90aca10c7d",
   "metadata": {},
   "outputs": [],
   "source": []
  }
 ],
 "metadata": {
  "kernelspec": {
   "display_name": "Python 3 (ipykernel)",
   "language": "python",
   "name": "python3"
  },
  "language_info": {
   "codemirror_mode": {
    "name": "ipython",
    "version": 3
   },
   "file_extension": ".py",
   "mimetype": "text/x-python",
   "name": "python",
   "nbconvert_exporter": "python",
   "pygments_lexer": "ipython3",
   "version": "3.9.9"
  }
 },
 "nbformat": 4,
 "nbformat_minor": 5
}
